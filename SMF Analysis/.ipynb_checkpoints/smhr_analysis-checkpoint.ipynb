{
 "cells": [
  {
   "cell_type": "markdown",
   "id": "59aff948-fcd9-48a8-b2ab-0004b4be71ba",
   "metadata": {},
   "source": [
    "# STELLAR-TO-HALO MASS RELATION"
   ]
  },
  {
   "cell_type": "code",
   "execution_count": 1,
   "id": "c058b855-bf96-49a0-8cdb-8508ef455be1",
   "metadata": {},
   "outputs": [
    {
     "ename": "NameError",
     "evalue": "name 'plt' is not defined",
     "output_type": "error",
     "traceback": [
      "\u001b[0;31m---------------------------------------------------------------------------\u001b[0m",
      "\u001b[0;31mNameError\u001b[0m                                 Traceback (most recent call last)",
      "\u001b[0;32m/tmp/ipykernel_21955/1380541920.py\u001b[0m in \u001b[0;36m<module>\u001b[0;34m\u001b[0m\n\u001b[1;32m      5\u001b[0m \u001b[0;32mimport\u001b[0m \u001b[0mmatplotlib\u001b[0m\u001b[0;34m.\u001b[0m\u001b[0mpyplot\u001b[0m \u001b[0;32mas\u001b[0m \u001b[0mplt\u001b[0m\u001b[0;34m\u001b[0m\u001b[0;34m\u001b[0m\u001b[0m\n\u001b[1;32m      6\u001b[0m \u001b[0;34m\u001b[0m\u001b[0m\n\u001b[0;32m----> 7\u001b[0;31m \u001b[0;32mfrom\u001b[0m \u001b[0mscaling\u001b[0m \u001b[0;32mimport\u001b[0m \u001b[0mcalculate_SHMR\u001b[0m\u001b[0;34m\u001b[0m\u001b[0;34m\u001b[0m\u001b[0m\n\u001b[0m",
      "\u001b[0;32m~/Desktop/Relating MF Project/SMF Analysis/scaling.py\u001b[0m in \u001b[0;36m<module>\u001b[0;34m\u001b[0m\n\u001b[1;32m    115\u001b[0m \u001b[0;34m\u001b[0m\u001b[0m\n\u001b[1;32m    116\u001b[0m \u001b[0;31m## plotting\u001b[0m\u001b[0;34m\u001b[0m\u001b[0;34m\u001b[0m\u001b[0m\n\u001b[0;32m--> 117\u001b[0;31m \u001b[0mplt\u001b[0m\u001b[0;34m.\u001b[0m\u001b[0mclose\u001b[0m\u001b[0;34m(\u001b[0m\u001b[0;34m'all'\u001b[0m\u001b[0;34m)\u001b[0m\u001b[0;34m\u001b[0m\u001b[0;34m\u001b[0m\u001b[0m\n\u001b[0m\u001b[1;32m    118\u001b[0m \u001b[0;34m\u001b[0m\u001b[0m\n\u001b[1;32m    119\u001b[0m \u001b[0;31m# plot stellar mass functions\u001b[0m\u001b[0;34m\u001b[0m\u001b[0;34m\u001b[0m\u001b[0m\n",
      "\u001b[0;31mNameError\u001b[0m: name 'plt' is not defined"
     ]
    }
   ],
   "source": [
    "from matplotlib import rc_file\n",
    "rc_file('plots/settings.rc')  # <-- the file containing your settings\n",
    "\n",
    "import numpy as np\n",
    "import matplotlib.pyplot as plt\n",
    "\n",
    "from scaling import calculate_SHMR"
   ]
  },
  {
   "cell_type": "markdown",
   "id": "6a21325e-22a6-4eb3-8e5e-1fadd8768c4c",
   "metadata": {
    "tags": []
   },
   "source": [
    "#### Import data"
   ]
  },
  {
   "cell_type": "code",
   "execution_count": null,
   "id": "238f778d-9846-4457-a115-c7cf59c0acb9",
   "metadata": {
    "tags": []
   },
   "outputs": [],
   "source": [
    "Davidson    = np.load('data/Davidson2017SMF.npz')\n",
    "Duncan      = np.load('data/Duncan2014SMF.npz')\n",
    "Song        = np.load('data/Song2016SMF.npz')\n",
    "Bhatawdekar = np.load('data/Bhatawdekar2018SMF.npz')"
   ]
  },
  {
   "cell_type": "code",
   "execution_count": null,
   "id": "389ac5b6-7c82-403b-9a0e-08d0deba98c6",
   "metadata": {
    "tags": []
   },
   "outputs": [],
   "source": [
    "# turn log values to actual values for fitting, and sort to correct redshift\n",
    "z1  = np.power(10, Davidson['0'])                                            [:,:2]\n",
    "z2  = np.power(10, Davidson['1'])                                            [:,:2]\n",
    "z3  = np.power(10, Davidson['2'])                                            [:,:2]\n",
    "z4  = np.power(10, np.concatenate([Davidson['3'],Duncan['0']]))              [:,:2]\n",
    "z5  = np.power(10, Duncan['1'])                                              [:,:2]\n",
    "z6  = np.power(10, np.concatenate([Duncan['2'],Song['0'],Bhatawdekar['0']])) [:,:2]\n",
    "z7  = np.power(10, np.concatenate([Song['1'],Bhatawdekar['1']]))             [:,:2]\n",
    "z8  = np.power(10, np.concatenate([Song['2'],Bhatawdekar['2']]))             [:,:2]\n",
    "z9  = np.power(10, Bhatawdekar['3'])                                         [:,:2]\n",
    "smfs     = [z1,z2,z3,z4,z5,z6,z7,z8,z9]\n",
    "# same for hmfs\n",
    "hmf_log  = np.load('data/HMF.npz'); \n",
    "hmfs = {str(i):np.power(10,hmf_log[str(i)]) for i in range(20)}"
   ]
  },
  {
   "cell_type": "markdown",
   "id": "75e76184-5668-4afd-9213-4ae62519d16d",
   "metadata": {
    "tags": []
   },
   "source": [
    "#### Shortcut"
   ]
  },
  {
   "cell_type": "code",
   "execution_count": null,
   "id": "7ea51c9f-f4ed-4cae-87e8-77ee416a7802",
   "metadata": {},
   "outputs": [],
   "source": [
    "get_results = lambda fb: calculate_SHMR(smfs, hmfs, fb)"
   ]
  },
  {
   "cell_type": "markdown",
   "id": "62c4bc36-5343-43f5-a55a-2668a9011fc6",
   "metadata": {},
   "source": [
    "## Stellar Mass Function"
   ]
  },
  {
   "cell_type": "code",
   "execution_count": null,
   "id": "7acaaa41-aafb-452e-ad8c-e4f2f2eea50e",
   "metadata": {},
   "outputs": [],
   "source": [
    "fig, ax = plt.subplots(3,3); ax = ax.flatten()\n",
    "for i in range(9):        \n",
    "    ax[i].scatter(smfs[i][:,0],smfs[i][:,1])\n",
    "    ax[i].set_xscale('log')\n",
    "    ax[i].set_yscale('log')              \n",
    "    ax[i].set_xlim([5e+6,2e+12])\n",
    "    ax[i].set_ylim([1e-6,1e+6])   \n",
    "fig.supxlabel('$M_*/M_\\odot$')\n",
    "fig.supylabel('$\\phi(M_*)$ [cMpc$^{-1}$ dex$^{-1}$]')\n",
    "for fb in ['none','sn','both']:\n",
    "    norm, fb_adj, _ = get_results(fb)\n",
    "    for i in range(9):\n",
    "        ax[i].plot(norm[i]*fb_adj[i]*hmfs[str(i+1)][:,0], hmfs[str(i+1)][:,1]) \n"
   ]
  },
  {
   "cell_type": "code",
   "execution_count": null,
   "id": "c8c028f2-2533-45d4-926d-70afb1fc224c",
   "metadata": {},
   "outputs": [],
   "source": []
  }
 ],
 "metadata": {
  "kernelspec": {
   "display_name": "Python 3 (ipykernel)",
   "language": "python",
   "name": "python3"
  },
  "language_info": {
   "codemirror_mode": {
    "name": "ipython",
    "version": 3
   },
   "file_extension": ".py",
   "mimetype": "text/x-python",
   "name": "python",
   "nbconvert_exporter": "python",
   "pygments_lexer": "ipython3",
   "version": "3.9.7"
  }
 },
 "nbformat": 4,
 "nbformat_minor": 5
}
